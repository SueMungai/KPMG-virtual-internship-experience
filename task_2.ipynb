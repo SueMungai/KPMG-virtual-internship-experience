{
 "cells": [
  {
   "cell_type": "code",
   "execution_count": 9,
   "metadata": {},
   "outputs": [],
   "source": [
    "excel_file_path = r\"C:\\Users\\HP\\Desktop\\DATASCI\\PERSONALProjects\\KPMG virtual internship\\KPMG_VI_new_raw_data.xlsx\"\n",
    "sheet_names = ['Transactions', 'NewCustomerList', 'CustomerDemographic', 'CustomerAdress']"
   ]
  },
  {
   "cell_type": "code",
   "execution_count": 21,
   "metadata": {},
   "outputs": [
    {
     "name": "stderr",
     "output_type": "stream",
     "text": [
      "C:\\Users\\HP\\AppData\\Local\\Temp\\ipykernel_20088\\3778795883.py:15: FutureWarning: Inferring datetime64[ns] from data containing strings is deprecated and will be removed in a future version. To retain the old behavior explicitly pass Series(data, dtype=datetime64[ns])\n",
      "  df = xls.parse(sheet_name)\n",
      "C:\\Users\\HP\\AppData\\Local\\Temp\\ipykernel_20088\\3778795883.py:15: FutureWarning: Inferring datetime64[ns] from data containing strings is deprecated and will be removed in a future version. To retain the old behavior explicitly pass Series(data, dtype=datetime64[ns])\n",
      "  df = xls.parse(sheet_name)\n"
     ]
    },
    {
     "name": "stdout",
     "output_type": "stream",
     "text": [
      "Conversion completed!\n"
     ]
    }
   ],
   "source": [
    "import pandas as pd\n",
    "import os\n",
    "\n",
    "def excel_to_csv(excel_file_path, sheet_names=None, csv_file_names=None):\n",
    "    excel_file_path = os.path.abspath(excel_file_path)  # Convert to absolute path\n",
    "    xls = pd.ExcelFile(excel_file_path)\n",
    "\n",
    "    if csv_file_names is None:\n",
    "        csv_file_names = [sheet_name for sheet_name in xlsx.sheet_names]\n",
    "\n",
    "    if len(csv_file_names) != len(xls.sheet_names):\n",
    "        raise ValueError(\"Number of CSV file names must match the number of sheets in the Excel file.\")\n",
    "\n",
    "    for sheet_name, csv_name in zip(xls.sheet_names, csv_file_names):\n",
    "        df = xls.parse(sheet_name)\n",
    "        csv_file_path = f'{csv_name}.csv'  # Save each sheet with the provided CSV file name\n",
    "        df.to_csv(csv_file_path, index=False)\n",
    "\n",
    "    print(\"Conversion completed!\")\n",
    "\n",
    "# Call the function to convert the Excel file to CSV with custom names for each sheet\n",
    "#excel_file_path = 'C:/Users/HP/Desktop/DATASCI/PERSONAL/KPMG virtual internship/kpmg_sprocket.xlsx'\n",
    "sheet_names = None  # Set this to a list of specific sheet names if you want to convert only certain sheets.\n",
    "csv_file_names = ['Transactions', 'NewCustomerList', 'CustomerDemographic', 'CustomerAdress']  # Provide the desired CSV file names\n",
    "\n",
    "excel_to_csv(excel_file_path, sheet_names, csv_file_names)\n",
    "\n"
   ]
  },
  {
   "cell_type": "code",
   "execution_count": 19,
   "metadata": {},
   "outputs": [],
   "source": [
    "#kpmgdata.csv = excel_to_csv(excel_file_path)\n",
    "#pd.read_csv(\"kpmg_csv\")"
   ]
  },
  {
   "cell_type": "code",
   "execution_count": null,
   "metadata": {},
   "outputs": [],
   "source": []
  }
 ],
 "metadata": {
  "kernelspec": {
   "display_name": "base",
   "language": "python",
   "name": "python3"
  },
  "language_info": {
   "codemirror_mode": {
    "name": "ipython",
    "version": 3
   },
   "file_extension": ".py",
   "mimetype": "text/x-python",
   "name": "python",
   "nbconvert_exporter": "python",
   "pygments_lexer": "ipython3",
   "version": "3.9.12"
  }
 },
 "nbformat": 4,
 "nbformat_minor": 2
}
