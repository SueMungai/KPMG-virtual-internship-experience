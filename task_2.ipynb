{
 "cells": [
  {
   "cell_type": "code",
   "execution_count": 2,
   "metadata": {},
   "outputs": [],
   "source": [
    "excel_file_path = r\"C:\\Users\\HP\\Desktop\\DATASCI\\PERSONALProjects\\KPMG virtual internship\\KPMG_VI_new_raw_data.xlsx\"\n",
    "sheet_names = ['Transactions', 'NewCustomerList', 'CustomerDemographic', 'CustomerAdress']"
   ]
  },
  {
   "cell_type": "code",
   "execution_count": 3,
   "metadata": {},
   "outputs": [
    {
     "name": "stderr",
     "output_type": "stream",
     "text": [
      "C:\\Users\\HP\\AppData\\Local\\Temp\\ipykernel_24060\\509358284.py:15: FutureWarning: Inferring datetime64[ns] from data containing strings is deprecated and will be removed in a future version. To retain the old behavior explicitly pass Series(data, dtype=datetime64[ns])\n",
      "  df = xls.parse(sheet_name)\n",
      "C:\\Users\\HP\\AppData\\Local\\Temp\\ipykernel_24060\\509358284.py:15: FutureWarning: Inferring datetime64[ns] from data containing strings is deprecated and will be removed in a future version. To retain the old behavior explicitly pass Series(data, dtype=datetime64[ns])\n",
      "  df = xls.parse(sheet_name)\n"
     ]
    },
    {
     "name": "stdout",
     "output_type": "stream",
     "text": [
      "Conversion completed!\n"
     ]
    }
   ],
   "source": [
    "import pandas as pd\n",
    "import os\n",
    "\n",
    "def excel_to_csv(excel_file_path, sheet_names=None, csv_file_names=None):\n",
    "    excel_file_path = os.path.abspath(excel_file_path)  # Convert to absolute path\n",
    "    xls = pd.ExcelFile(excel_file_path)\n",
    "\n",
    "    if csv_file_names is None:\n",
    "        csv_file_names = [sheet_name for sheet_name in xlsx.sheet_names]\n",
    "\n",
    "    if len(csv_file_names) != len(xls.sheet_names):\n",
    "        raise ValueError(\"Number of CSV file names must match the number of sheets in the Excel file.\")\n",
    "\n",
    "    for sheet_name, csv_name in zip(xls.sheet_names, csv_file_names):\n",
    "        df = xls.parse(sheet_name)\n",
    "        csv_file_path = f'{csv_name}.csv'  # Save each sheet with the provided CSV file name\n",
    "        df.to_csv(csv_file_path, index=False)\n",
    "\n",
    "    print(\"Conversion completed!\")\n",
    "\n",
    "# Call the function to convert the Excel file to CSV with custom names for each sheet\n",
    "#excel_file_path = 'C:/Users/HP/Desktop/DATASCI/PERSONAL/KPMG virtual internship/kpmg_sprocket.xlsx'\n",
    "sheet_names = None  # Set this to a list of specific sheet names if you want to convert only certain sheets.\n",
    "csv_file_names = ['Transactions', 'NewCustomerList', 'CustomerDemographic', 'CustomerAddress']  # Provide the desired CSV file names\n",
    "\n",
    "excel_to_csv(excel_file_path, sheet_names, csv_file_names)\n",
    "\n"
   ]
  },
  {
   "cell_type": "code",
   "execution_count": 4,
   "metadata": {},
   "outputs": [],
   "source": [
    "#Now to turn the respective sheets to dataframes\n",
    "transactions_df = pd.read_csv(\"Transactions.csv\")\n",
    "transactions_df.head()\n",
    "#CustomerList_df = pd.read_csv('NewCustomerList.csv')\n",
    "#CustomerList_df.head()\n",
    "CustomerDemographic_df = pd.read_csv(\"CustomerDemographic.csv\")\n",
    "#CustomerDemographic_df.head()\n",
    "CustomerAddress_df = pd.read_csv(\"CustomerAddress.csv\")\n",
    "#CustomerAddress_df.head()"
   ]
  },
  {
   "cell_type": "code",
   "execution_count": 5,
   "metadata": {},
   "outputs": [],
   "source": [
    "## In this task, we do not the customerlist df.\n",
    "#The rest of the sheets have a column in common, Customerid, so we will try to join them using this feature\n",
    "# Merge the dataframes one by one using customer_id as the key\n",
    "merged_df = pd.merge(transactions_df, CustomerDemographic_df, on='customer_id', how='outer')\n",
    "merged_df = pd.merge(merged_df, CustomerAddress_df, on='customer_id', how='outer')\n",
    "\n",
    "# If you want to perform an inner join (intersection) use 'inner' in the how argument.\n",
    "# If you want to perform an outer join (union), use 'outer' in the how argument.\n",
    "\n",
    "#print(merged_df.head())"
   ]
  },
  {
   "cell_type": "code",
   "execution_count": 6,
   "metadata": {},
   "outputs": [],
   "source": [
    "#merged_df.head()\n",
    "#let's see the all the columns\n",
    "#merged_df.columns"
   ]
  },
  {
   "cell_type": "code",
   "execution_count": 7,
   "metadata": {},
   "outputs": [
    {
     "data": {
      "text/html": [
       "<div>\n",
       "<style scoped>\n",
       "    .dataframe tbody tr th:only-of-type {\n",
       "        vertical-align: middle;\n",
       "    }\n",
       "\n",
       "    .dataframe tbody tr th {\n",
       "        vertical-align: top;\n",
       "    }\n",
       "\n",
       "    .dataframe thead th {\n",
       "        text-align: right;\n",
       "    }\n",
       "</style>\n",
       "<table border=\"1\" class=\"dataframe\">\n",
       "  <thead>\n",
       "    <tr style=\"text-align: right;\">\n",
       "      <th></th>\n",
       "      <th>customer_id</th>\n",
       "      <th>first_name</th>\n",
       "      <th>last_name</th>\n",
       "      <th>gender</th>\n",
       "      <th>past_3_years_bike_related_purchases</th>\n",
       "      <th>DOB</th>\n",
       "      <th>job_title</th>\n",
       "      <th>job_industry_category</th>\n",
       "      <th>wealth_segment</th>\n",
       "      <th>deceased_indicator</th>\n",
       "      <th>default</th>\n",
       "      <th>owns_car</th>\n",
       "      <th>tenure</th>\n",
       "    </tr>\n",
       "  </thead>\n",
       "  <tbody>\n",
       "    <tr>\n",
       "      <th>0</th>\n",
       "      <td>1</td>\n",
       "      <td>Laraine</td>\n",
       "      <td>Medendorp</td>\n",
       "      <td>F</td>\n",
       "      <td>93</td>\n",
       "      <td>1953-10-12</td>\n",
       "      <td>Executive Secretary</td>\n",
       "      <td>Health</td>\n",
       "      <td>Mass Customer</td>\n",
       "      <td>N</td>\n",
       "      <td>\"'</td>\n",
       "      <td>Yes</td>\n",
       "      <td>11.0</td>\n",
       "    </tr>\n",
       "    <tr>\n",
       "      <th>1</th>\n",
       "      <td>2</td>\n",
       "      <td>Eli</td>\n",
       "      <td>Bockman</td>\n",
       "      <td>Male</td>\n",
       "      <td>81</td>\n",
       "      <td>1980-12-16</td>\n",
       "      <td>Administrative Officer</td>\n",
       "      <td>Financial Services</td>\n",
       "      <td>Mass Customer</td>\n",
       "      <td>N</td>\n",
       "      <td>&lt;script&gt;alert('hi')&lt;/script&gt;</td>\n",
       "      <td>Yes</td>\n",
       "      <td>16.0</td>\n",
       "    </tr>\n",
       "    <tr>\n",
       "      <th>2</th>\n",
       "      <td>3</td>\n",
       "      <td>Arlin</td>\n",
       "      <td>Dearle</td>\n",
       "      <td>Male</td>\n",
       "      <td>61</td>\n",
       "      <td>1954-01-20</td>\n",
       "      <td>Recruiting Manager</td>\n",
       "      <td>Property</td>\n",
       "      <td>Mass Customer</td>\n",
       "      <td>N</td>\n",
       "      <td>2018-02-01 00:00:00</td>\n",
       "      <td>Yes</td>\n",
       "      <td>15.0</td>\n",
       "    </tr>\n",
       "    <tr>\n",
       "      <th>3</th>\n",
       "      <td>4</td>\n",
       "      <td>Talbot</td>\n",
       "      <td>NaN</td>\n",
       "      <td>Male</td>\n",
       "      <td>33</td>\n",
       "      <td>1961-10-03</td>\n",
       "      <td>NaN</td>\n",
       "      <td>IT</td>\n",
       "      <td>Mass Customer</td>\n",
       "      <td>N</td>\n",
       "      <td>() { _; } &gt;_[$($())] { touch /tmp/blns.shellsh...</td>\n",
       "      <td>No</td>\n",
       "      <td>7.0</td>\n",
       "    </tr>\n",
       "    <tr>\n",
       "      <th>4</th>\n",
       "      <td>5</td>\n",
       "      <td>Sheila-kathryn</td>\n",
       "      <td>Calton</td>\n",
       "      <td>Female</td>\n",
       "      <td>56</td>\n",
       "      <td>1977-05-13</td>\n",
       "      <td>Senior Editor</td>\n",
       "      <td>NaN</td>\n",
       "      <td>Affluent Customer</td>\n",
       "      <td>N</td>\n",
       "      <td>NIL</td>\n",
       "      <td>Yes</td>\n",
       "      <td>8.0</td>\n",
       "    </tr>\n",
       "  </tbody>\n",
       "</table>\n",
       "</div>"
      ],
      "text/plain": [
       "   customer_id      first_name  last_name  gender  \\\n",
       "0            1         Laraine  Medendorp       F   \n",
       "1            2             Eli    Bockman    Male   \n",
       "2            3           Arlin     Dearle    Male   \n",
       "3            4          Talbot        NaN    Male   \n",
       "4            5  Sheila-kathryn     Calton  Female   \n",
       "\n",
       "   past_3_years_bike_related_purchases         DOB               job_title  \\\n",
       "0                                   93  1953-10-12     Executive Secretary   \n",
       "1                                   81  1980-12-16  Administrative Officer   \n",
       "2                                   61  1954-01-20      Recruiting Manager   \n",
       "3                                   33  1961-10-03                     NaN   \n",
       "4                                   56  1977-05-13           Senior Editor   \n",
       "\n",
       "  job_industry_category     wealth_segment deceased_indicator  \\\n",
       "0                Health      Mass Customer                  N   \n",
       "1    Financial Services      Mass Customer                  N   \n",
       "2              Property      Mass Customer                  N   \n",
       "3                    IT      Mass Customer                  N   \n",
       "4                   NaN  Affluent Customer                  N   \n",
       "\n",
       "                                             default owns_car  tenure  \n",
       "0                                                 \"'      Yes    11.0  \n",
       "1                       <script>alert('hi')</script>      Yes    16.0  \n",
       "2                                2018-02-01 00:00:00      Yes    15.0  \n",
       "3  () { _; } >_[$($())] { touch /tmp/blns.shellsh...       No     7.0  \n",
       "4                                                NIL      Yes     8.0  "
      ]
     },
     "execution_count": 7,
     "metadata": {},
     "output_type": "execute_result"
    }
   ],
   "source": [
    "CustomerDemographic_df.head()"
   ]
  },
  {
   "cell_type": "code",
   "execution_count": 8,
   "metadata": {},
   "outputs": [
    {
     "data": {
      "text/html": [
       "<div>\n",
       "<style scoped>\n",
       "    .dataframe tbody tr th:only-of-type {\n",
       "        vertical-align: middle;\n",
       "    }\n",
       "\n",
       "    .dataframe tbody tr th {\n",
       "        vertical-align: top;\n",
       "    }\n",
       "\n",
       "    .dataframe thead th {\n",
       "        text-align: right;\n",
       "    }\n",
       "</style>\n",
       "<table border=\"1\" class=\"dataframe\">\n",
       "  <thead>\n",
       "    <tr style=\"text-align: right;\">\n",
       "      <th></th>\n",
       "      <th>customer_id</th>\n",
       "      <th>first_name</th>\n",
       "      <th>last_name</th>\n",
       "      <th>gender</th>\n",
       "      <th>past_3_years_bike_related_purchases</th>\n",
       "      <th>DOB</th>\n",
       "      <th>job_title</th>\n",
       "      <th>job_industry_category</th>\n",
       "      <th>wealth_segment</th>\n",
       "      <th>deceased_indicator</th>\n",
       "      <th>default</th>\n",
       "      <th>owns_car</th>\n",
       "      <th>tenure</th>\n",
       "      <th>Age</th>\n",
       "    </tr>\n",
       "  </thead>\n",
       "  <tbody>\n",
       "    <tr>\n",
       "      <th>0</th>\n",
       "      <td>1</td>\n",
       "      <td>Laraine</td>\n",
       "      <td>Medendorp</td>\n",
       "      <td>F</td>\n",
       "      <td>93</td>\n",
       "      <td>1953-10-12</td>\n",
       "      <td>Executive Secretary</td>\n",
       "      <td>Health</td>\n",
       "      <td>Mass Customer</td>\n",
       "      <td>N</td>\n",
       "      <td>\"'</td>\n",
       "      <td>Yes</td>\n",
       "      <td>11.0</td>\n",
       "      <td>70.0</td>\n",
       "    </tr>\n",
       "    <tr>\n",
       "      <th>1</th>\n",
       "      <td>2</td>\n",
       "      <td>Eli</td>\n",
       "      <td>Bockman</td>\n",
       "      <td>Male</td>\n",
       "      <td>81</td>\n",
       "      <td>1980-12-16</td>\n",
       "      <td>Administrative Officer</td>\n",
       "      <td>Financial Services</td>\n",
       "      <td>Mass Customer</td>\n",
       "      <td>N</td>\n",
       "      <td>&lt;script&gt;alert('hi')&lt;/script&gt;</td>\n",
       "      <td>Yes</td>\n",
       "      <td>16.0</td>\n",
       "      <td>42.0</td>\n",
       "    </tr>\n",
       "    <tr>\n",
       "      <th>2</th>\n",
       "      <td>3</td>\n",
       "      <td>Arlin</td>\n",
       "      <td>Dearle</td>\n",
       "      <td>Male</td>\n",
       "      <td>61</td>\n",
       "      <td>1954-01-20</td>\n",
       "      <td>Recruiting Manager</td>\n",
       "      <td>Property</td>\n",
       "      <td>Mass Customer</td>\n",
       "      <td>N</td>\n",
       "      <td>2018-02-01 00:00:00</td>\n",
       "      <td>Yes</td>\n",
       "      <td>15.0</td>\n",
       "      <td>69.0</td>\n",
       "    </tr>\n",
       "    <tr>\n",
       "      <th>3</th>\n",
       "      <td>4</td>\n",
       "      <td>Talbot</td>\n",
       "      <td>NaN</td>\n",
       "      <td>Male</td>\n",
       "      <td>33</td>\n",
       "      <td>1961-10-03</td>\n",
       "      <td>NaN</td>\n",
       "      <td>IT</td>\n",
       "      <td>Mass Customer</td>\n",
       "      <td>N</td>\n",
       "      <td>() { _; } &gt;_[$($())] { touch /tmp/blns.shellsh...</td>\n",
       "      <td>No</td>\n",
       "      <td>7.0</td>\n",
       "      <td>62.0</td>\n",
       "    </tr>\n",
       "    <tr>\n",
       "      <th>4</th>\n",
       "      <td>5</td>\n",
       "      <td>Sheila-kathryn</td>\n",
       "      <td>Calton</td>\n",
       "      <td>Female</td>\n",
       "      <td>56</td>\n",
       "      <td>1977-05-13</td>\n",
       "      <td>Senior Editor</td>\n",
       "      <td>NaN</td>\n",
       "      <td>Affluent Customer</td>\n",
       "      <td>N</td>\n",
       "      <td>NIL</td>\n",
       "      <td>Yes</td>\n",
       "      <td>8.0</td>\n",
       "      <td>46.0</td>\n",
       "    </tr>\n",
       "  </tbody>\n",
       "</table>\n",
       "</div>"
      ],
      "text/plain": [
       "   customer_id      first_name  last_name  gender  \\\n",
       "0            1         Laraine  Medendorp       F   \n",
       "1            2             Eli    Bockman    Male   \n",
       "2            3           Arlin     Dearle    Male   \n",
       "3            4          Talbot        NaN    Male   \n",
       "4            5  Sheila-kathryn     Calton  Female   \n",
       "\n",
       "   past_3_years_bike_related_purchases        DOB               job_title  \\\n",
       "0                                   93 1953-10-12     Executive Secretary   \n",
       "1                                   81 1980-12-16  Administrative Officer   \n",
       "2                                   61 1954-01-20      Recruiting Manager   \n",
       "3                                   33 1961-10-03                     NaN   \n",
       "4                                   56 1977-05-13           Senior Editor   \n",
       "\n",
       "  job_industry_category     wealth_segment deceased_indicator  \\\n",
       "0                Health      Mass Customer                  N   \n",
       "1    Financial Services      Mass Customer                  N   \n",
       "2              Property      Mass Customer                  N   \n",
       "3                    IT      Mass Customer                  N   \n",
       "4                   NaN  Affluent Customer                  N   \n",
       "\n",
       "                                             default owns_car  tenure   Age  \n",
       "0                                                 \"'      Yes    11.0  70.0  \n",
       "1                       <script>alert('hi')</script>      Yes    16.0  42.0  \n",
       "2                                2018-02-01 00:00:00      Yes    15.0  69.0  \n",
       "3  () { _; } >_[$($())] { touch /tmp/blns.shellsh...       No     7.0  62.0  \n",
       "4                                                NIL      Yes     8.0  46.0  "
      ]
     },
     "execution_count": 8,
     "metadata": {},
     "output_type": "execute_result"
    }
   ],
   "source": [
    "#let's get the age distribution of these potential customers\n",
    "from datetime import datetime\n",
    "\n",
    "# Convert the DOB column to datetime\n",
    "CustomerDemographic_df['DOB'] = pd.to_datetime(CustomerDemographic_df['DOB'])\n",
    "\n",
    "# Calculate age based on the current date\n",
    "current_date = datetime.now()\n",
    "CustomerDemographic_df['Age'] = (current_date - CustomerDemographic_df['DOB']).astype('<m8[Y]')  # Calculate age in years\n",
    "\n",
    "# Display the DataFrame with the Age column\n",
    "CustomerDemographic_df.head()\n"
   ]
  },
  {
   "cell_type": "code",
   "execution_count": 9,
   "metadata": {},
   "outputs": [
    {
     "name": "stdout",
     "output_type": "stream",
     "text": [
      "Oldest person's age: 179.0\n",
      "Youngest person's age: 21.0\n"
     ]
    }
   ],
   "source": [
    "oldest_age = CustomerDemographic_df['Age'].max()\n",
    "youngest_age = CustomerDemographic_df['Age'].min()\n",
    "\n",
    "print(\"Oldest person's age:\", oldest_age)\n",
    "print(\"Youngest person's age:\", youngest_age)\n",
    "\n"
   ]
  },
  {
   "cell_type": "markdown",
   "metadata": {},
   "source": [
    "Oop! There's someone who's 179 years old, that can't be, let's take care of that."
   ]
  },
  {
   "cell_type": "code",
   "execution_count": 10,
   "metadata": {},
   "outputs": [],
   "source": [
    "# Convert the \"DOB\" column to datetime\n",
    "CustomerDemographic_df['DOB'] = pd.to_datetime(CustomerDemographic_df['DOB'])\n",
    "\n",
    "# Find the oldest date of birth\n",
    "oldest_dob = CustomerDemographic_df['DOB'].min()\n",
    "CustomerDemographic_df = CustomerDemographic_df.drop(CustomerDemographic_df[CustomerDemographic_df['DOB'] == oldest_dob].index)\n"
   ]
  },
  {
   "cell_type": "code",
   "execution_count": 11,
   "metadata": {},
   "outputs": [
    {
     "name": "stdout",
     "output_type": "stream",
     "text": [
      "Oldest person's age: 91.0\n",
      "Youngest person's age: 21.0\n"
     ]
    }
   ],
   "source": [
    "oldest_age = CustomerDemographic_df['Age'].max()\n",
    "youngest_age = CustomerDemographic_df['Age'].min()\n",
    "\n",
    "print(\"Oldest person's age:\", oldest_age)\n",
    "print(\"Youngest person's age:\", youngest_age)"
   ]
  },
  {
   "cell_type": "code",
   "execution_count": 12,
   "metadata": {},
   "outputs": [
    {
     "data": {
      "image/png": "[encoded data removed]",
      "text/plain": [
       "<Figure size 432x288 with 1 Axes>"
      ]
     },
     "metadata": {},
     "output_type": "display_data"
    }
   ],
   "source": [
    "# Let's check out the age distribution visually\n",
    "import matplotlib.pyplot as plt\n",
    "\n",
    "# Define the bin edges for decades\n",
    "bin_edges = [10, 20, 30, 40, 50, 60, 70, 80, 90, 100]\n",
    "\n",
    "# Create a histogram by binning the ages into decades\n",
    "plt.hist(CustomerDemographic_df['Age'], bins=bin_edges, edgecolor='k', alpha=0.7)\n",
    "plt.xlabel('Age Decades')\n",
    "plt.ylabel('Count')\n",
    "plt.title('Age Distribution of New Customers')\n",
    "plt.xticks(bin_edges)\n",
    "\n",
    "# Show the plot\n",
    "plt.show()\n"
   ]
  },
  {
   "cell_type": "markdown",
   "metadata": {},
   "source": [
    "New customers are more from the age group of 40-50 , followed by 50-60 & 60-70. Probably because they are more health-conscious and want to keep fit, with more time in their hands. \n",
    "\n",
    "Fewer customer are from 10-19 & 90-99 for obvious reasons.\n"
   ]
  },
  {
   "cell_type": "code",
   "execution_count": 13,
   "metadata": {},
   "outputs": [
    {
     "name": "stdout",
     "output_type": "stream",
     "text": [
      "Female    2037\n",
      "Male      1872\n",
      "U           87\n",
      "F            1\n",
      "Femal        1\n",
      "M            1\n",
      "Name: gender, dtype: int64\n"
     ]
    }
   ],
   "source": [
    "gen = CustomerDemographic_df[\"gender\"].value_counts()\n",
    "print(gen)\n",
    "#print(CustomerDemographic_df.gender)"
   ]
  },
  {
   "cell_type": "markdown",
   "metadata": {},
   "source": [
    "There's some inconsistencies with the variables in the gender column. "
   ]
  },
  {
   "cell_type": "code",
   "execution_count": 14,
   "metadata": {},
   "outputs": [],
   "source": [
    "# Define a mapping to standardize the gender values\n",
    "gender_mapping = {'F': 'Female', 'Femal' : 'Female' , 'M': 'Male'}\n",
    "\n",
    "# Standardize the \"Gender\" column\n",
    "CustomerDemographic_df['gender'] = CustomerDemographic_df['gender'].replace(gender_mapping)\n",
    "CustomerDemographic_df = CustomerDemographic_df.drop(CustomerDemographic_df[CustomerDemographic_df['gender'] == 'U'].index)"
   ]
  },
  {
   "cell_type": "code",
   "execution_count": 25,
   "metadata": {},
   "outputs": [
    {
     "data": {
      "image/png": "[encoded data removed]",
      "text/plain": [
       "<Figure size 720x432 with 1 Axes>"
      ]
     },
     "metadata": {},
     "output_type": "display_data"
    }
   ],
   "source": [
    "#Past 3 years bike-related purchases\n",
    "import seaborn as sns\n",
    "\n",
    "# Create a bar chart categorized by gender and age\n",
    "sns.set(style=\"whitegrid\")\n",
    "plt.figure(figsize=(10, 6))\n",
    "\n",
    "# Group the data by gender and age, and count the bike purchases\n",
    "age_bins = [30, 40, 50, 60, 70, 80, 90, 100]\n",
    "CustomerDemographic_df['Age Group'] = pd.cut(CustomerDemographic_df['Age'], bins=age_bins)\n",
    "\n",
    "# Create the bar chart\n",
    "sns.barplot(x='gender', y='past_3_years_bike_related_purchases', hue='Age Group', data=CustomerDemographic_df)\n",
    "\n",
    "# Customize the plot\n",
    "plt.xlabel('gender')\n",
    "plt.ylabel('Count of Bike Purchases')\n",
    "plt.title('Past 3 Years Bike Purchase by Gender and Age Group')\n",
    "\n",
    "# Show the plot\n",
    "plt.show()\n"
   ]
  },
  {
   "cell_type": "code",
   "execution_count": null,
   "metadata": {},
   "outputs": [],
   "source": []
  }
 ],
 "metadata": {
  "kernelspec": {
   "display_name": "base",
   "language": "python",
   "name": "python3"
  },
  "language_info": {
   "codemirror_mode": {
    "name": "ipython",
    "version": 3
   },
   "file_extension": ".py",
   "mimetype": "text/x-python",
   "name": "python",
   "nbconvert_exporter": "python",
   "pygments_lexer": "ipython3",
   "version": "3.9.12"
  }
 },
 "nbformat": 4,
 "nbformat_minor": 2
}
